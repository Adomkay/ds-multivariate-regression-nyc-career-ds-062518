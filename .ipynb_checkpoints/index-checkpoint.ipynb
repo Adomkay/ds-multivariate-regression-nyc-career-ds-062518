{
 "cells": [
  {
   "cell_type": "markdown",
   "metadata": {},
   "source": [
    "# Here's some data!"
   ]
  },
  {
   "cell_type": "markdown",
   "metadata": {},
   "source": [
    "### 1. Import the data. It's stored in a file called 'movie_data_detailed.xlsx'."
   ]
  },
  {
   "cell_type": "code",
   "execution_count": 5,
   "metadata": {},
   "outputs": [],
   "source": [
    "import pandas as pd\n",
    "%matplotlib inline"
   ]
  },
  {
   "cell_type": "code",
   "execution_count": 10,
   "metadata": {},
   "outputs": [
    {
     "data": {
      "text/html": [
       "<div>\n",
       "<style scoped>\n",
       "    .dataframe tbody tr th:only-of-type {\n",
       "        vertical-align: middle;\n",
       "    }\n",
       "\n",
       "    .dataframe tbody tr th {\n",
       "        vertical-align: top;\n",
       "    }\n",
       "\n",
       "    .dataframe thead th {\n",
       "        text-align: right;\n",
       "    }\n",
       "</style>\n",
       "<table border=\"1\" class=\"dataframe\">\n",
       "  <thead>\n",
       "    <tr style=\"text-align: right;\">\n",
       "      <th></th>\n",
       "      <th>budget</th>\n",
       "      <th>domgross</th>\n",
       "      <th>title</th>\n",
       "      <th>Response_Json</th>\n",
       "      <th>Year</th>\n",
       "      <th>imdbRating</th>\n",
       "      <th>Metascore</th>\n",
       "      <th>imdbVotes</th>\n",
       "    </tr>\n",
       "  </thead>\n",
       "  <tbody>\n",
       "    <tr>\n",
       "      <th>0</th>\n",
       "      <td>13000000</td>\n",
       "      <td>25682380</td>\n",
       "      <td>21 &amp;amp; Over</td>\n",
       "      <td>NaN</td>\n",
       "      <td>2008.0</td>\n",
       "      <td>6.8</td>\n",
       "      <td>48.0</td>\n",
       "      <td>206513.0</td>\n",
       "    </tr>\n",
       "    <tr>\n",
       "      <th>1</th>\n",
       "      <td>45658735</td>\n",
       "      <td>13414714</td>\n",
       "      <td>Dredd 3D</td>\n",
       "      <td>NaN</td>\n",
       "      <td>2012.0</td>\n",
       "      <td>NaN</td>\n",
       "      <td>NaN</td>\n",
       "      <td>NaN</td>\n",
       "    </tr>\n",
       "    <tr>\n",
       "      <th>2</th>\n",
       "      <td>20000000</td>\n",
       "      <td>53107035</td>\n",
       "      <td>12 Years a Slave</td>\n",
       "      <td>NaN</td>\n",
       "      <td>2013.0</td>\n",
       "      <td>8.1</td>\n",
       "      <td>96.0</td>\n",
       "      <td>537525.0</td>\n",
       "    </tr>\n",
       "    <tr>\n",
       "      <th>3</th>\n",
       "      <td>61000000</td>\n",
       "      <td>75612460</td>\n",
       "      <td>2 Guns</td>\n",
       "      <td>NaN</td>\n",
       "      <td>2013.0</td>\n",
       "      <td>6.7</td>\n",
       "      <td>55.0</td>\n",
       "      <td>173726.0</td>\n",
       "    </tr>\n",
       "    <tr>\n",
       "      <th>4</th>\n",
       "      <td>40000000</td>\n",
       "      <td>95020213</td>\n",
       "      <td>42</td>\n",
       "      <td>NaN</td>\n",
       "      <td>2013.0</td>\n",
       "      <td>7.5</td>\n",
       "      <td>62.0</td>\n",
       "      <td>74170.0</td>\n",
       "    </tr>\n",
       "  </tbody>\n",
       "</table>\n",
       "</div>"
      ],
      "text/plain": [
       "     budget  domgross             title  Response_Json    Year  imdbRating  \\\n",
       "0  13000000  25682380     21 &amp; Over            NaN  2008.0         6.8   \n",
       "1  45658735  13414714          Dredd 3D            NaN  2012.0         NaN   \n",
       "2  20000000  53107035  12 Years a Slave            NaN  2013.0         8.1   \n",
       "3  61000000  75612460            2 Guns            NaN  2013.0         6.7   \n",
       "4  40000000  95020213                42            NaN  2013.0         7.5   \n",
       "\n",
       "   Metascore  imdbVotes  \n",
       "0       48.0   206513.0  \n",
       "1        NaN        NaN  \n",
       "2       96.0   537525.0  \n",
       "3       55.0   173726.0  \n",
       "4       62.0    74170.0  "
      ]
     },
     "execution_count": 10,
     "metadata": {},
     "output_type": "execute_result"
    }
   ],
   "source": [
    "df = pd.read_excel('movie_data_detailed.xlsx')\n",
    "df.head()"
   ]
  },
  {
   "cell_type": "markdown",
   "metadata": {},
   "source": [
    "### 2. Fill all the null values with zero."
   ]
  },
  {
   "cell_type": "code",
   "execution_count": 30,
   "metadata": {},
   "outputs": [
    {
     "data": {
      "text/html": [
       "<div>\n",
       "<style scoped>\n",
       "    .dataframe tbody tr th:only-of-type {\n",
       "        vertical-align: middle;\n",
       "    }\n",
       "\n",
       "    .dataframe tbody tr th {\n",
       "        vertical-align: top;\n",
       "    }\n",
       "\n",
       "    .dataframe thead th {\n",
       "        text-align: right;\n",
       "    }\n",
       "</style>\n",
       "<table border=\"1\" class=\"dataframe\">\n",
       "  <thead>\n",
       "    <tr style=\"text-align: right;\">\n",
       "      <th></th>\n",
       "      <th>budget</th>\n",
       "      <th>domgross</th>\n",
       "      <th>title</th>\n",
       "      <th>Response_Json</th>\n",
       "      <th>Year</th>\n",
       "      <th>imdbRating</th>\n",
       "      <th>Metascore</th>\n",
       "      <th>imdbVotes</th>\n",
       "    </tr>\n",
       "  </thead>\n",
       "  <tbody>\n",
       "    <tr>\n",
       "      <th>0</th>\n",
       "      <td>0.034169</td>\n",
       "      <td>0.055325</td>\n",
       "      <td>21 &amp;amp; Over</td>\n",
       "      <td>0.0</td>\n",
       "      <td>0.864865</td>\n",
       "      <td>0.59375</td>\n",
       "      <td>0.294118</td>\n",
       "      <td>0.357377</td>\n",
       "    </tr>\n",
       "    <tr>\n",
       "      <th>1</th>\n",
       "      <td>0.182956</td>\n",
       "      <td>0.023779</td>\n",
       "      <td>Dredd 3D</td>\n",
       "      <td>0.0</td>\n",
       "      <td>0.972973</td>\n",
       "      <td>0.00000</td>\n",
       "      <td>0.000000</td>\n",
       "      <td>0.000000</td>\n",
       "    </tr>\n",
       "    <tr>\n",
       "      <th>2</th>\n",
       "      <td>0.066059</td>\n",
       "      <td>0.125847</td>\n",
       "      <td>12 Years a Slave</td>\n",
       "      <td>0.0</td>\n",
       "      <td>1.000000</td>\n",
       "      <td>1.00000</td>\n",
       "      <td>1.000000</td>\n",
       "      <td>1.000000</td>\n",
       "    </tr>\n",
       "    <tr>\n",
       "      <th>3</th>\n",
       "      <td>0.252847</td>\n",
       "      <td>0.183719</td>\n",
       "      <td>2 Guns</td>\n",
       "      <td>0.0</td>\n",
       "      <td>1.000000</td>\n",
       "      <td>0.56250</td>\n",
       "      <td>0.397059</td>\n",
       "      <td>0.293724</td>\n",
       "    </tr>\n",
       "    <tr>\n",
       "      <th>4</th>\n",
       "      <td>0.157175</td>\n",
       "      <td>0.233625</td>\n",
       "      <td>42</td>\n",
       "      <td>0.0</td>\n",
       "      <td>1.000000</td>\n",
       "      <td>0.81250</td>\n",
       "      <td>0.500000</td>\n",
       "      <td>0.100447</td>\n",
       "    </tr>\n",
       "  </tbody>\n",
       "</table>\n",
       "</div>"
      ],
      "text/plain": [
       "     budget  domgross             title  Response_Json      Year  imdbRating  \\\n",
       "0  0.034169  0.055325     21 &amp; Over            0.0  0.864865     0.59375   \n",
       "1  0.182956  0.023779          Dredd 3D            0.0  0.972973     0.00000   \n",
       "2  0.066059  0.125847  12 Years a Slave            0.0  1.000000     1.00000   \n",
       "3  0.252847  0.183719            2 Guns            0.0  1.000000     0.56250   \n",
       "4  0.157175  0.233625                42            0.0  1.000000     0.81250   \n",
       "\n",
       "   Metascore  imdbVotes  \n",
       "0   0.294118   0.357377  \n",
       "1   0.000000   0.000000  \n",
       "2   1.000000   1.000000  \n",
       "3   0.397059   0.293724  \n",
       "4   0.500000   0.100447  "
      ]
     },
     "execution_count": 30,
     "metadata": {},
     "output_type": "execute_result"
    }
   ],
   "source": [
    "df = df.fillna(value=0)\n",
    "df.head()"
   ]
  },
  {
   "cell_type": "markdown",
   "metadata": {},
   "source": [
    "### 3. Normalize the data so that all features have a minimum of zero and a maximum of one."
   ]
  },
  {
   "cell_type": "code",
   "execution_count": 11,
   "metadata": {},
   "outputs": [
    {
     "data": {
      "text/html": [
       "<div>\n",
       "<style scoped>\n",
       "    .dataframe tbody tr th:only-of-type {\n",
       "        vertical-align: middle;\n",
       "    }\n",
       "\n",
       "    .dataframe tbody tr th {\n",
       "        vertical-align: top;\n",
       "    }\n",
       "\n",
       "    .dataframe thead th {\n",
       "        text-align: right;\n",
       "    }\n",
       "</style>\n",
       "<table border=\"1\" class=\"dataframe\">\n",
       "  <thead>\n",
       "    <tr style=\"text-align: right;\">\n",
       "      <th></th>\n",
       "      <th>budget</th>\n",
       "      <th>domgross</th>\n",
       "      <th>title</th>\n",
       "      <th>Response_Json</th>\n",
       "      <th>Year</th>\n",
       "      <th>imdbRating</th>\n",
       "      <th>Metascore</th>\n",
       "      <th>imdbVotes</th>\n",
       "    </tr>\n",
       "  </thead>\n",
       "  <tbody>\n",
       "    <tr>\n",
       "      <th>0</th>\n",
       "      <td>0.034169</td>\n",
       "      <td>0.055325</td>\n",
       "      <td>21 &amp;amp; Over</td>\n",
       "      <td>NaN</td>\n",
       "      <td>0.864865</td>\n",
       "      <td>0.59375</td>\n",
       "      <td>0.294118</td>\n",
       "      <td>0.357377</td>\n",
       "    </tr>\n",
       "    <tr>\n",
       "      <th>1</th>\n",
       "      <td>0.182956</td>\n",
       "      <td>0.023779</td>\n",
       "      <td>Dredd 3D</td>\n",
       "      <td>NaN</td>\n",
       "      <td>0.972973</td>\n",
       "      <td>NaN</td>\n",
       "      <td>NaN</td>\n",
       "      <td>NaN</td>\n",
       "    </tr>\n",
       "    <tr>\n",
       "      <th>2</th>\n",
       "      <td>0.066059</td>\n",
       "      <td>0.125847</td>\n",
       "      <td>12 Years a Slave</td>\n",
       "      <td>NaN</td>\n",
       "      <td>1.000000</td>\n",
       "      <td>1.00000</td>\n",
       "      <td>1.000000</td>\n",
       "      <td>1.000000</td>\n",
       "    </tr>\n",
       "    <tr>\n",
       "      <th>3</th>\n",
       "      <td>0.252847</td>\n",
       "      <td>0.183719</td>\n",
       "      <td>2 Guns</td>\n",
       "      <td>NaN</td>\n",
       "      <td>1.000000</td>\n",
       "      <td>0.56250</td>\n",
       "      <td>0.397059</td>\n",
       "      <td>0.293724</td>\n",
       "    </tr>\n",
       "    <tr>\n",
       "      <th>4</th>\n",
       "      <td>0.157175</td>\n",
       "      <td>0.233625</td>\n",
       "      <td>42</td>\n",
       "      <td>NaN</td>\n",
       "      <td>1.000000</td>\n",
       "      <td>0.81250</td>\n",
       "      <td>0.500000</td>\n",
       "      <td>0.100447</td>\n",
       "    </tr>\n",
       "  </tbody>\n",
       "</table>\n",
       "</div>"
      ],
      "text/plain": [
       "     budget  domgross             title  Response_Json      Year  imdbRating  \\\n",
       "0  0.034169  0.055325     21 &amp; Over            NaN  0.864865     0.59375   \n",
       "1  0.182956  0.023779          Dredd 3D            NaN  0.972973         NaN   \n",
       "2  0.066059  0.125847  12 Years a Slave            NaN  1.000000     1.00000   \n",
       "3  0.252847  0.183719            2 Guns            NaN  1.000000     0.56250   \n",
       "4  0.157175  0.233625                42            NaN  1.000000     0.81250   \n",
       "\n",
       "   Metascore  imdbVotes  \n",
       "0   0.294118   0.357377  \n",
       "1        NaN        NaN  \n",
       "2   1.000000   1.000000  \n",
       "3   0.397059   0.293724  \n",
       "4   0.500000   0.100447  "
      ]
     },
     "execution_count": 11,
     "metadata": {},
     "output_type": "execute_result"
    }
   ],
   "source": [
    "for col in df.columns:\n",
    "    if col == 'title':\n",
    "        continue\n",
    "    col_min = df[col].min()\n",
    "    col_max = df[col].max()\n",
    "    df[col] = (df[col] - col_min) / (col_max-col_min)\n",
    "df.head()"
   ]
  },
  {
   "cell_type": "markdown",
   "metadata": {},
   "source": [
    "### 4. Define 4 variables: X_train, Y_train, X_test, Y_test using a 80-20 split for train and test data. X should be a matrix of data features predicting y, Domestic Gross Sales.  Use random_state=42 for consistency."
   ]
  },
  {
   "cell_type": "code",
   "execution_count": 17,
   "metadata": {},
   "outputs": [],
   "source": [
    "from sklearn.model_selection import train_test_split"
   ]
  },
  {
   "cell_type": "code",
   "execution_count": 32,
   "metadata": {},
   "outputs": [],
   "source": [
    "X = df[['budget', 'Year', 'imdbRating',\n",
    "       'Metascore', 'imdbVotes']]\n",
    "y = df['domgross']"
   ]
  },
  {
   "cell_type": "code",
   "execution_count": 33,
   "metadata": {},
   "outputs": [],
   "source": [
    "X_train, X_test, y_train, y_test = train_test_split(X, y, test_size=.2, random_state=42)"
   ]
  },
  {
   "cell_type": "markdown",
   "metadata": {},
   "source": [
    "### 5. Import import sklearn.linear_model.LinearRegression\n",
    "Create an instance of the LinearRegression class.\n",
    "Then use the fit method to train a model according to the data."
   ]
  },
  {
   "cell_type": "code",
   "execution_count": 24,
   "metadata": {},
   "outputs": [],
   "source": [
    "import sklearn.linear_model as linreg"
   ]
  },
  {
   "cell_type": "code",
   "execution_count": 25,
   "metadata": {},
   "outputs": [],
   "source": [
    "ols = linreg.LinearRegression() #Ordinary Least Squares Regressor"
   ]
  },
  {
   "cell_type": "code",
   "execution_count": 34,
   "metadata": {},
   "outputs": [
    {
     "data": {
      "text/html": [
       "<div>\n",
       "<style scoped>\n",
       "    .dataframe tbody tr th:only-of-type {\n",
       "        vertical-align: middle;\n",
       "    }\n",
       "\n",
       "    .dataframe tbody tr th {\n",
       "        vertical-align: top;\n",
       "    }\n",
       "\n",
       "    .dataframe thead th {\n",
       "        text-align: right;\n",
       "    }\n",
       "</style>\n",
       "<table border=\"1\" class=\"dataframe\">\n",
       "  <thead>\n",
       "    <tr style=\"text-align: right;\">\n",
       "      <th></th>\n",
       "      <th>budget</th>\n",
       "      <th>Year</th>\n",
       "      <th>imdbRating</th>\n",
       "      <th>Metascore</th>\n",
       "      <th>imdbVotes</th>\n",
       "    </tr>\n",
       "  </thead>\n",
       "  <tbody>\n",
       "    <tr>\n",
       "      <th>28</th>\n",
       "      <td>0.248292</td>\n",
       "      <td>1.000000</td>\n",
       "      <td>0.56250</td>\n",
       "      <td>0.176471</td>\n",
       "      <td>0.323078</td>\n",
       "    </tr>\n",
       "    <tr>\n",
       "      <th>24</th>\n",
       "      <td>0.052392</td>\n",
       "      <td>1.000000</td>\n",
       "      <td>0.50000</td>\n",
       "      <td>0.426471</td>\n",
       "      <td>0.228133</td>\n",
       "    </tr>\n",
       "    <tr>\n",
       "      <th>12</th>\n",
       "      <td>0.202733</td>\n",
       "      <td>1.000000</td>\n",
       "      <td>0.40625</td>\n",
       "      <td>0.352941</td>\n",
       "      <td>0.104002</td>\n",
       "    </tr>\n",
       "    <tr>\n",
       "      <th>0</th>\n",
       "      <td>0.034169</td>\n",
       "      <td>0.864865</td>\n",
       "      <td>0.59375</td>\n",
       "      <td>0.294118</td>\n",
       "      <td>0.357377</td>\n",
       "    </tr>\n",
       "    <tr>\n",
       "      <th>4</th>\n",
       "      <td>0.157175</td>\n",
       "      <td>1.000000</td>\n",
       "      <td>0.81250</td>\n",
       "      <td>0.500000</td>\n",
       "      <td>0.100447</td>\n",
       "    </tr>\n",
       "    <tr>\n",
       "      <th>16</th>\n",
       "      <td>0.330296</td>\n",
       "      <td>1.000000</td>\n",
       "      <td>0.46875</td>\n",
       "      <td>0.455882</td>\n",
       "      <td>0.102327</td>\n",
       "    </tr>\n",
       "    <tr>\n",
       "      <th>5</th>\n",
       "      <td>1.000000</td>\n",
       "      <td>1.000000</td>\n",
       "      <td>0.43750</td>\n",
       "      <td>0.000000</td>\n",
       "      <td>0.206440</td>\n",
       "    </tr>\n",
       "    <tr>\n",
       "      <th>13</th>\n",
       "      <td>0.056948</td>\n",
       "      <td>1.000000</td>\n",
       "      <td>0.75000</td>\n",
       "      <td>0.735294</td>\n",
       "      <td>0.288405</td>\n",
       "    </tr>\n",
       "    <tr>\n",
       "      <th>11</th>\n",
       "      <td>0.088838</td>\n",
       "      <td>1.000000</td>\n",
       "      <td>0.71875</td>\n",
       "      <td>0.441176</td>\n",
       "      <td>0.103775</td>\n",
       "    </tr>\n",
       "    <tr>\n",
       "      <th>22</th>\n",
       "      <td>0.157175</td>\n",
       "      <td>1.000000</td>\n",
       "      <td>0.31250</td>\n",
       "      <td>0.102941</td>\n",
       "      <td>0.000000</td>\n",
       "    </tr>\n",
       "    <tr>\n",
       "      <th>1</th>\n",
       "      <td>0.182956</td>\n",
       "      <td>0.972973</td>\n",
       "      <td>0.00000</td>\n",
       "      <td>0.000000</td>\n",
       "      <td>0.000000</td>\n",
       "    </tr>\n",
       "    <tr>\n",
       "      <th>2</th>\n",
       "      <td>0.066059</td>\n",
       "      <td>1.000000</td>\n",
       "      <td>1.00000</td>\n",
       "      <td>1.000000</td>\n",
       "      <td>1.000000</td>\n",
       "    </tr>\n",
       "    <tr>\n",
       "      <th>25</th>\n",
       "      <td>0.703872</td>\n",
       "      <td>0.000000</td>\n",
       "      <td>0.00000</td>\n",
       "      <td>0.000000</td>\n",
       "      <td>0.000000</td>\n",
       "    </tr>\n",
       "    <tr>\n",
       "      <th>3</th>\n",
       "      <td>0.252847</td>\n",
       "      <td>1.000000</td>\n",
       "      <td>0.56250</td>\n",
       "      <td>0.397059</td>\n",
       "      <td>0.293724</td>\n",
       "    </tr>\n",
       "    <tr>\n",
       "      <th>21</th>\n",
       "      <td>0.430524</td>\n",
       "      <td>1.000000</td>\n",
       "      <td>0.56250</td>\n",
       "      <td>0.352941</td>\n",
       "      <td>0.135818</td>\n",
       "    </tr>\n",
       "    <tr>\n",
       "      <th>26</th>\n",
       "      <td>0.658314</td>\n",
       "      <td>1.000000</td>\n",
       "      <td>0.81250</td>\n",
       "      <td>0.676471</td>\n",
       "      <td>0.895223</td>\n",
       "    </tr>\n",
       "    <tr>\n",
       "      <th>18</th>\n",
       "      <td>0.000000</td>\n",
       "      <td>1.000000</td>\n",
       "      <td>0.53125</td>\n",
       "      <td>0.558824</td>\n",
       "      <td>0.362104</td>\n",
       "    </tr>\n",
       "    <tr>\n",
       "      <th>29</th>\n",
       "      <td>0.111617</td>\n",
       "      <td>0.108108</td>\n",
       "      <td>0.68750</td>\n",
       "      <td>0.000000</td>\n",
       "      <td>0.000000</td>\n",
       "    </tr>\n",
       "    <tr>\n",
       "      <th>20</th>\n",
       "      <td>0.476082</td>\n",
       "      <td>1.000000</td>\n",
       "      <td>0.00000</td>\n",
       "      <td>0.000000</td>\n",
       "      <td>0.000000</td>\n",
       "    </tr>\n",
       "    <tr>\n",
       "      <th>7</th>\n",
       "      <td>0.029613</td>\n",
       "      <td>1.000000</td>\n",
       "      <td>0.90625</td>\n",
       "      <td>0.397059</td>\n",
       "      <td>0.422557</td>\n",
       "    </tr>\n",
       "    <tr>\n",
       "      <th>10</th>\n",
       "      <td>0.157175</td>\n",
       "      <td>1.000000</td>\n",
       "      <td>0.75000</td>\n",
       "      <td>0.911765</td>\n",
       "      <td>0.729885</td>\n",
       "    </tr>\n",
       "    <tr>\n",
       "      <th>14</th>\n",
       "      <td>0.225513</td>\n",
       "      <td>1.000000</td>\n",
       "      <td>0.90625</td>\n",
       "      <td>0.808824</td>\n",
       "      <td>0.671360</td>\n",
       "    </tr>\n",
       "    <tr>\n",
       "      <th>19</th>\n",
       "      <td>0.521640</td>\n",
       "      <td>1.000000</td>\n",
       "      <td>0.53125</td>\n",
       "      <td>0.485294</td>\n",
       "      <td>0.690554</td>\n",
       "    </tr>\n",
       "    <tr>\n",
       "      <th>6</th>\n",
       "      <td>0.394077</td>\n",
       "      <td>1.000000</td>\n",
       "      <td>0.12500</td>\n",
       "      <td>0.000000</td>\n",
       "      <td>0.307040</td>\n",
       "    </tr>\n",
       "  </tbody>\n",
       "</table>\n",
       "</div>"
      ],
      "text/plain": [
       "      budget      Year  imdbRating  Metascore  imdbVotes\n",
       "28  0.248292  1.000000     0.56250   0.176471   0.323078\n",
       "24  0.052392  1.000000     0.50000   0.426471   0.228133\n",
       "12  0.202733  1.000000     0.40625   0.352941   0.104002\n",
       "0   0.034169  0.864865     0.59375   0.294118   0.357377\n",
       "4   0.157175  1.000000     0.81250   0.500000   0.100447\n",
       "16  0.330296  1.000000     0.46875   0.455882   0.102327\n",
       "5   1.000000  1.000000     0.43750   0.000000   0.206440\n",
       "13  0.056948  1.000000     0.75000   0.735294   0.288405\n",
       "11  0.088838  1.000000     0.71875   0.441176   0.103775\n",
       "22  0.157175  1.000000     0.31250   0.102941   0.000000\n",
       "1   0.182956  0.972973     0.00000   0.000000   0.000000\n",
       "2   0.066059  1.000000     1.00000   1.000000   1.000000\n",
       "25  0.703872  0.000000     0.00000   0.000000   0.000000\n",
       "3   0.252847  1.000000     0.56250   0.397059   0.293724\n",
       "21  0.430524  1.000000     0.56250   0.352941   0.135818\n",
       "26  0.658314  1.000000     0.81250   0.676471   0.895223\n",
       "18  0.000000  1.000000     0.53125   0.558824   0.362104\n",
       "29  0.111617  0.108108     0.68750   0.000000   0.000000\n",
       "20  0.476082  1.000000     0.00000   0.000000   0.000000\n",
       "7   0.029613  1.000000     0.90625   0.397059   0.422557\n",
       "10  0.157175  1.000000     0.75000   0.911765   0.729885\n",
       "14  0.225513  1.000000     0.90625   0.808824   0.671360\n",
       "19  0.521640  1.000000     0.53125   0.485294   0.690554\n",
       "6   0.394077  1.000000     0.12500   0.000000   0.307040"
      ]
     },
     "execution_count": 34,
     "metadata": {},
     "output_type": "execute_result"
    }
   ],
   "source": [
    "X_train"
   ]
  },
  {
   "cell_type": "code",
   "execution_count": 35,
   "metadata": {},
   "outputs": [
    {
     "data": {
      "text/plain": [
       "LinearRegression(copy_X=True, fit_intercept=True, n_jobs=1, normalize=False)"
      ]
     },
     "execution_count": 35,
     "metadata": {},
     "output_type": "execute_result"
    }
   ],
   "source": [
    "ols.fit(X_train, y_train)"
   ]
  },
  {
   "cell_type": "code",
   "execution_count": 36,
   "metadata": {},
   "outputs": [
    {
     "data": {
      "text/plain": [
       "0.16444401019074928"
      ]
     },
     "execution_count": 36,
     "metadata": {},
     "output_type": "execute_result"
    }
   ],
   "source": [
    "ols.intercept_"
   ]
  },
  {
   "cell_type": "code",
   "execution_count": 37,
   "metadata": {},
   "outputs": [
    {
     "data": {
      "text/plain": [
       "array([ 0.5358648 , -0.24768549, -0.1825654 ,  0.47976811,  0.09527222])"
      ]
     },
     "execution_count": 37,
     "metadata": {},
     "output_type": "execute_result"
    }
   ],
   "source": [
    "ols.coef_"
   ]
  },
  {
   "cell_type": "code",
   "execution_count": 38,
   "metadata": {},
   "outputs": [
    {
     "name": "stdout",
     "output_type": "stream",
     "text": [
      "budget 0.0 1.0 0.2826361025056947 0.214123006833713\n",
      "Year 0.0 1.0 0.8981981981981982 1.0\n",
      "imdbRating 0.0 1.0 0.5197916666666667 0.5625000000000001\n",
      "Metascore 0.0 1.0 0.3759803921568627 0.375\n",
      "imdbVotes 0.0 1.0 0.30194973742707654 0.2760034556732253\n"
     ]
    }
   ],
   "source": [
    "for col in X.columns:\n",
    "    print(col, df[col].min(), df[col].max(), df[col].mean(), df[col].median())"
   ]
  },
  {
   "cell_type": "code",
   "execution_count": 39,
   "metadata": {},
   "outputs": [
    {
     "data": {
      "text/plain": [
       "array([ 0.0352974 ,  0.02149214,  0.34463226,  0.16803743,  0.1021028 ,\n",
       "        0.39241891,  0.1343625 , -0.00206884,  0.03204186,  0.28407909,\n",
       "        0.3710326 ,  0.05469422,  0.1304675 ,  0.19059834,  0.32416251,\n",
       "        0.50596153,  0.23664177,  0.24202617,  0.12237482,  0.39791848,\n",
       "        0.17187411,  0.22703766, -0.00668051,  0.15230823,  0.07989243,\n",
       "        0.54162447,  0.53103053,  0.31060082,  0.06256154,  0.07196528])"
      ]
     },
     "execution_count": 39,
     "metadata": {},
     "output_type": "execute_result"
    }
   ],
   "source": [
    "ols.predict(X)"
   ]
  },
  {
   "cell_type": "markdown",
   "metadata": {},
   "source": [
    "### 6. Scatter Plot <a id=\"scatter\"></a>  \n",
    "Create a Scatter Plot of the budget and  Domestic Gross (domgross) along with your model's predictions."
   ]
  },
  {
   "cell_type": "code",
   "execution_count": 40,
   "metadata": {},
   "outputs": [],
   "source": [
    "%matplotlib inline\n",
    "import matplotlib.pyplot as plt"
   ]
  },
  {
   "cell_type": "code",
   "execution_count": 42,
   "metadata": {},
   "outputs": [
    {
     "data": {
      "text/plain": [
       "<matplotlib.collections.PathCollection at 0x1a23f95ba8>"
      ]
     },
     "execution_count": 42,
     "metadata": {},
     "output_type": "execute_result"
    },
    {
     "data": {
      "image/png": "[encoded data removed]",
      "text/plain": [
       "<Figure size 432x288 with 1 Axes>"
      ]
     },
     "metadata": {},
     "output_type": "display_data"
    }
   ],
   "source": [
    "plt.scatter(df.budget, df.domgross, color='blue')\n",
    "plt.scatter(y_train, ols.predict(X_train), color='red')"
   ]
  }
 ],
 "metadata": {
  "kernelspec": {
   "display_name": "Python 3",
   "language": "python",
   "name": "python3"
  },
  "language_info": {
   "codemirror_mode": {
    "name": "ipython",
    "version": 3
   },
   "file_extension": ".py",
   "mimetype": "text/x-python",
   "name": "python",
   "nbconvert_exporter": "python",
   "pygments_lexer": "ipython3",
   "version": "3.6.5"
  }
 },
 "nbformat": 4,
 "nbformat_minor": 2
}
